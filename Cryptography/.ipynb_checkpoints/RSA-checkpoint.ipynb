{
 "cells": [
  {
   "cell_type": "code",
   "execution_count": 1,
   "metadata": {},
   "outputs": [],
   "source": [
    "# Function to return gcd of a and b \n",
    "def gcd(a, b):  \n",
    "    if a == 0 : \n",
    "        return b  \n",
    "      \n",
    "    return gcd(b%a, a) "
   ]
  },
  {
   "cell_type": "code",
   "execution_count": 2,
   "metadata": {},
   "outputs": [],
   "source": [
    "def rsa():\n",
    "    p = 93\n",
    "    q = 53\n",
    "    n = p * q\n",
    "    tf = (p - 1) * (q - 1)\n",
    "    print(tf, n)\n",
    "    e = 17\n",
    "    d = 413\n",
    "    return d, e, n"
   ]
  },
  {
   "cell_type": "code",
   "execution_count": 3,
   "metadata": {},
   "outputs": [
    {
     "name": "stdout",
     "output_type": "stream",
     "text": [
      "4784 4929\n",
      "413 17 4929\n"
     ]
    },
    {
     "data": {
      "text/plain": [
       "1"
      ]
     },
     "execution_count": 3,
     "metadata": {},
     "output_type": "execute_result"
    }
   ],
   "source": [
    "d, e, n = rsa()\n",
    "print(d, e, n)\n",
    "gcd(17, 4784)"
   ]
  },
  {
   "cell_type": "code",
   "execution_count": 91,
   "metadata": {},
   "outputs": [],
   "source": [
    "def unique_code():    # unique binary code for characters\n",
    "    # 6 - bit code has been used.\n",
    "    code = []\n",
    "    for i in range(32, 60):\n",
    "        code.append(bin(i)[2:])\n",
    "    return code"
   ]
  },
  {
   "cell_type": "code",
   "execution_count": 94,
   "metadata": {},
   "outputs": [
    {
     "name": "stdout",
     "output_type": "stream",
     "text": [
      "100000 100001 100010 100011 100100 100101 100110 100111 101000 101001 101010 101011 101100 101101 101110 101111 110000 110001 110010 110011 110100 110101 110110 110111 111000 111001 111010 111011\n"
     ]
    }
   ],
   "source": [
    "code = unique_code()\n",
    "print(\" \".join(code))"
   ]
  },
  {
   "cell_type": "code",
   "execution_count": 6,
   "metadata": {},
   "outputs": [
    {
     "data": {
      "text/plain": [
       "90"
      ]
     },
     "execution_count": 6,
     "metadata": {},
     "output_type": "execute_result"
    }
   ],
   "source": [
    "len(code)\n",
    "ord('Z')"
   ]
  },
  {
   "cell_type": "code",
   "execution_count": 7,
   "metadata": {},
   "outputs": [],
   "source": [
    "def find_index(char):\n",
    "#     ascii_code = ord(char)\n",
    "#     if ascii_code == 32:    # space\n",
    "#         res = 0\n",
    "#     elif ascii_code >= 97 and ascii_code <= 122:\n",
    "#         res = ascii_code - 96\n",
    "#     elif ascii_code >= 65 and ascii_code <= 90:\n",
    "#         res = ascii_code - 64\n",
    "#     else:\n",
    "#         res = 27    #invalid\n",
    "    bin_ = bin(ord(i))[2:]\n",
    "    if len(bin_) < 7:\n",
    "        bin_ = (7 - len(bin_)) * '0' + bin_\n",
    "    bin_ = '1' + bin_            # appending 1 inorder to make a number unique\n",
    "#     print(bin_, bin(ord(i))[2:])\n",
    "    return res"
   ]
  },
  {
   "cell_type": "code",
   "execution_count": 24,
   "metadata": {},
   "outputs": [],
   "source": [
    "def find_char(index):        # it returns char\n",
    "    if index == 0:\n",
    "        return ' '\n",
    "    elif index == 27:\n",
    "        return ''\n",
    "    else:\n",
    "        return chr(96 + index)"
   ]
  },
  {
   "cell_type": "code",
   "execution_count": 67,
   "metadata": {},
   "outputs": [],
   "source": [
    "# for i in ('abcdefghijklmnopqrstuvwxyzABCDEFGHIJKLMNOPQRSTUVWXYZ'):\n",
    "#     print(find_index(i))\n",
    "# block of 4 chars\n",
    "\n",
    "def string_to_block(string):\n",
    "    strlen = len(string)\n",
    "    print(strlen % 2)\n",
    "    if strlen % 2:   # if string is not multiple of 4\n",
    "        string = string + ('$' * (2 - (strlen % 2)))     # appending dummy string\n",
    "    \n",
    "    blocks = []\n",
    "    for i in range(0, len(string)-1, 2):\n",
    "        chunk = string[i:i+2]\n",
    "        current_block = []\n",
    "        for c in chunk:\n",
    "            current_block.append(code[find_index(c)])\n",
    "#         print(current_block)\n",
    "        blocks.append(int(\"\".join(current_block), 2))\n",
    "    return blocks"
   ]
  },
  {
   "cell_type": "code",
   "execution_count": 68,
   "metadata": {},
   "outputs": [
    {
     "name": "stdout",
     "output_type": "stream",
     "text": [
      "1\n",
      "[2597, 2860, 3040, 3567, 3244, 2363]\n"
     ]
    }
   ],
   "source": [
    "string = \"hello world\"\n",
    "blocks = string_to_block(string)\n",
    "print(blocks)"
   ]
  },
  {
   "cell_type": "code",
   "execution_count": 69,
   "metadata": {},
   "outputs": [],
   "source": [
    "def encryption(string, e, n):\n",
    "    blocks = string_to_block(string)\n",
    "    cipher = []\n",
    "    for b in blocks:\n",
    "        cipher.append((b ** e) % n)\n",
    "    return cipher"
   ]
  },
  {
   "cell_type": "code",
   "execution_count": 71,
   "metadata": {},
   "outputs": [
    {
     "name": "stdout",
     "output_type": "stream",
     "text": [
      "1\n",
      "[2597, 2860, 3040, 3567, 3244, 2363]\n",
      "[3392, 4714, 562, 717, 4492, 4544]\n"
     ]
    }
   ],
   "source": [
    "cipher = encryption(\"Hello world\", e, n)\n",
    "print(blocks)\n",
    "print(cipher)"
   ]
  },
  {
   "cell_type": "code",
   "execution_count": 72,
   "metadata": {},
   "outputs": [],
   "source": [
    "def decryption(cipher, d, n):\n",
    "    blocks = []\n",
    "    for c in cipher:\n",
    "        print(c, n)\n",
    "        blocks.append((c ** d) % n)\n",
    "    return blocks"
   ]
  },
  {
   "cell_type": "code",
   "execution_count": 73,
   "metadata": {},
   "outputs": [
    {
     "name": "stdout",
     "output_type": "stream",
     "text": [
      "3392 4929\n",
      "4714 4929\n",
      "562 4929\n",
      "717 4929\n",
      "4492 4929\n",
      "4544 4929\n",
      "[2597, 2860, 3040, 3567, 3244, 2363]\n"
     ]
    }
   ],
   "source": [
    "blocks = decryption(cipher, d, n)\n",
    "print(blocks)"
   ]
  },
  {
   "cell_type": "code",
   "execution_count": 74,
   "metadata": {},
   "outputs": [],
   "source": [
    "def block_to_string(blocks):\n",
    "    string = []\n",
    "    for i in blocks:\n",
    "        b = bin(i)[2:]\n",
    "        current_str = []\n",
    "        for ch in range(0, 11, 6):\n",
    "#             print(b[ch:ch+6], b[ch+2:ch+6], int(b[ch+2:ch+6], 2))\n",
    "            current_str.append(find_char(int(b[ch:ch+6], 2) - 32))\n",
    "        string.append(''.join(current_str))\n",
    "    return \"\".join(string)\n",
    "            "
   ]
  },
  {
   "cell_type": "code",
   "execution_count": 75,
   "metadata": {},
   "outputs": [
    {
     "data": {
      "text/plain": [
       "'hello world'"
      ]
     },
     "execution_count": 75,
     "metadata": {},
     "output_type": "execute_result"
    }
   ],
   "source": [
    "block_to_string(blocks)"
   ]
  },
  {
   "cell_type": "code",
   "execution_count": 76,
   "metadata": {},
   "outputs": [],
   "source": [
    "plain = 96"
   ]
  },
  {
   "cell_type": "code",
   "execution_count": 77,
   "metadata": {},
   "outputs": [
    {
     "data": {
      "text/plain": [
       "4734"
      ]
     },
     "execution_count": 77,
     "metadata": {},
     "output_type": "execute_result"
    }
   ],
   "source": [
    "cipher = (plain ** e) % n\n",
    "cipher"
   ]
  },
  {
   "cell_type": "code",
   "execution_count": 78,
   "metadata": {},
   "outputs": [
    {
     "data": {
      "text/plain": [
       "96"
      ]
     },
     "execution_count": 78,
     "metadata": {},
     "output_type": "execute_result"
    }
   ],
   "source": [
    "plain_new = (cipher ** d) % n\n",
    "plain_new"
   ]
  },
  {
   "cell_type": "code",
   "execution_count": 79,
   "metadata": {},
   "outputs": [
    {
     "data": {
      "text/plain": [
       "294"
      ]
     },
     "execution_count": 79,
     "metadata": {},
     "output_type": "execute_result"
    }
   ],
   "source": [
    "(plain ** (21)) % n"
   ]
  },
  {
   "cell_type": "code",
   "execution_count": 80,
   "metadata": {},
   "outputs": [],
   "source": [
    "m = 3232"
   ]
  },
  {
   "cell_type": "code",
   "execution_count": 81,
   "metadata": {},
   "outputs": [
    {
     "data": {
      "text/plain": [
       "3232"
      ]
     },
     "execution_count": 81,
     "metadata": {},
     "output_type": "execute_result"
    }
   ],
   "source": [
    "c = (m ** 17) % 3233\n",
    "c"
   ]
  },
  {
   "cell_type": "code",
   "execution_count": 82,
   "metadata": {},
   "outputs": [
    {
     "data": {
      "text/plain": [
       "3232"
      ]
     },
     "execution_count": 82,
     "metadata": {},
     "output_type": "execute_result"
    }
   ],
   "source": [
    "p = (c ** 413) % 3233\n",
    "p"
   ]
  },
  {
   "cell_type": "code",
   "execution_count": 83,
   "metadata": {},
   "outputs": [
    {
     "data": {
      "text/plain": [
       "['100000',\n",
       " '100001',\n",
       " '100010',\n",
       " '100011',\n",
       " '100100',\n",
       " '100101',\n",
       " '100110',\n",
       " '100111',\n",
       " '101000',\n",
       " '101001',\n",
       " '101010',\n",
       " '101011',\n",
       " '101100',\n",
       " '101101',\n",
       " '101110',\n",
       " '101111',\n",
       " '110000',\n",
       " '110001',\n",
       " '110010',\n",
       " '110011',\n",
       " '110100',\n",
       " '110101',\n",
       " '110110',\n",
       " '110111',\n",
       " '111000',\n",
       " '111001',\n",
       " '111010',\n",
       " '111011']"
      ]
     },
     "execution_count": 83,
     "metadata": {},
     "output_type": "execute_result"
    }
   ],
   "source": [
    "code"
   ]
  },
  {
   "cell_type": "code",
   "execution_count": 84,
   "metadata": {},
   "outputs": [
    {
     "name": "stdout",
     "output_type": "stream",
     "text": [
      "4095\n"
     ]
    }
   ],
   "source": [
    "# largest number of 12 bit\n",
    "print(2 ** 12 -1)"
   ]
  },
  {
   "cell_type": "code",
   "execution_count": 85,
   "metadata": {},
   "outputs": [
    {
     "name": "stdout",
     "output_type": "stream",
     "text": [
      "0b111111111111\n"
     ]
    }
   ],
   "source": [
    "print(bin(4095))"
   ]
  },
  {
   "cell_type": "code",
   "execution_count": 86,
   "metadata": {},
   "outputs": [
    {
     "name": "stdout",
     "output_type": "stream",
     "text": [
      "0\n",
      "6\n"
     ]
    }
   ],
   "source": [
    "for kk in range(0, 11, 6):\n",
    "    print(kk)"
   ]
  },
  {
   "cell_type": "code",
   "execution_count": 87,
   "metadata": {},
   "outputs": [
    {
     "data": {
      "text/plain": [
       "59"
      ]
     },
     "execution_count": 87,
     "metadata": {},
     "output_type": "execute_result"
    }
   ],
   "source": [
    "int('111011', 2)"
   ]
  },
  {
   "cell_type": "code",
   "execution_count": 88,
   "metadata": {},
   "outputs": [
    {
     "data": {
      "text/plain": [
       "27"
      ]
     },
     "execution_count": 88,
     "metadata": {},
     "output_type": "execute_result"
    }
   ],
   "source": [
    "59-32"
   ]
  },
  {
   "cell_type": "code",
   "execution_count": 89,
   "metadata": {},
   "outputs": [
    {
     "data": {
      "text/plain": [
       "32"
      ]
     },
     "execution_count": 89,
     "metadata": {},
     "output_type": "execute_result"
    }
   ],
   "source": [
    "int('100000', 2)"
   ]
  },
  {
   "cell_type": "code",
   "execution_count": 103,
   "metadata": {},
   "outputs": [
    {
     "name": "stdout",
     "output_type": "stream",
     "text": [
      "11100110 1100110\n",
      "11101010 1101010\n",
      "11100100 1100100\n",
      "11101001 1101001\n",
      "11101010 1101010\n",
      "11110011 1110011\n",
      "11101001 1101001\n",
      "10111001 111001\n",
      "10110011 110011\n",
      "10110011 110011\n",
      "10110000 110000\n",
      "10101010 101010\n",
      "10111001 111001\n",
      "11010001 1010001\n",
      "11010111 1010111\n",
      "11000101 1000101\n",
      "11010010 1010010\n",
      "11010100 1010100\n",
      "11000111 1000111\n",
      "11010110 1010110\n",
      "11000011 1000011\n",
      "11011000 1011000\n",
      "11001001 1001001\n",
      "11010101 1010101\n",
      "11001000 1001000\n",
      "11000111 1000111\n",
      "10100001 100001\n",
      "11000000 1000000\n",
      "10100011 100011\n",
      "10100100 100100\n",
      "10100101 100101\n",
      "11011110 1011110\n",
      "10101011 101011\n",
      "11011111 1011111\n",
      "10101001 101001\n",
      "10101000 101000\n",
      "10101010 101010\n",
      "10100110 100110\n",
      "11011110 1011110\n",
      "10100101 100101\n",
      "11111010 1111010\n",
      "11111000 1111000\n",
      "11100011 1100011\n",
      "11110110 1110110\n",
      "11100010 1100010\n",
      "11101110 1101110\n",
      "11101101 1101101\n",
      "10111111 111111\n",
      "10111110 111110\n",
      "10111100 111100\n",
      "11101101 1101101\n",
      "11101110 1101110\n",
      "11100010 1100010\n",
      "11110110 1110110\n",
      "10101001 101001\n",
      "10100000 100000\n"
     ]
    }
   ],
   "source": [
    "for i in 'fjdijsi9330*9QWERTGVCXIUHG!@#$%^+_)(*&^%zxcvbnm?><mnbv) ':\n",
    "    bin_ = bin(ord(i))[2:]\n",
    "    if len(bin_) < 7:\n",
    "        bin_ = (7 - len(bin_)) * '0' + bin_\n",
    "    bin_ = '1' + bin_\n",
    "    print(bin_, bin(ord(i))[2:])\n",
    "    "
   ]
  },
  {
   "cell_type": "code",
   "execution_count": 101,
   "metadata": {},
   "outputs": [
    {
     "data": {
      "text/plain": [
       "128"
      ]
     },
     "execution_count": 101,
     "metadata": {},
     "output_type": "execute_result"
    }
   ],
   "source": [
    "2**7"
   ]
  },
  {
   "cell_type": "code",
   "execution_count": null,
   "metadata": {},
   "outputs": [],
   "source": []
  }
 ],
 "metadata": {
  "kernelspec": {
   "display_name": "Python 3",
   "language": "python",
   "name": "python3"
  },
  "language_info": {
   "codemirror_mode": {
    "name": "ipython",
    "version": 3
   },
   "file_extension": ".py",
   "mimetype": "text/x-python",
   "name": "python",
   "nbconvert_exporter": "python",
   "pygments_lexer": "ipython3",
   "version": "3.7.3"
  }
 },
 "nbformat": 4,
 "nbformat_minor": 2
}
