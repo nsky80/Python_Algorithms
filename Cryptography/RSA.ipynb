{
 "cells": [
  {
   "cell_type": "code",
   "execution_count": 254,
   "metadata": {},
   "outputs": [],
   "source": [
    "# Function to return gcd of a and b \n",
    "def gcd(a, b):  \n",
    "    if a == 0 : \n",
    "        return b  \n",
    "      \n",
    "    return gcd(b%a, a) "
   ]
  },
  {
   "cell_type": "code",
   "execution_count": 265,
   "metadata": {},
   "outputs": [],
   "source": [
    "def multiplicative_inverse(e, phi):\n",
    "    d = 0\n",
    "    x1 = 0\n",
    "    x2 = 1\n",
    "    y1 = 1\n",
    "    temp_phi = phi\n",
    "    \n",
    "    while e > 0:\n",
    "        temp1 = temp_phi/e\n",
    "        temp2 = temp_phi - temp1 * e\n",
    "        temp_phi = e\n",
    "        e = temp2\n",
    "        \n",
    "        x = x2- temp1* x1\n",
    "        y = d - temp1 * y1\n",
    "        \n",
    "        x2 = x1\n",
    "        x1 = x\n",
    "        d = y1\n",
    "        y1 = y\n",
    "    \n",
    "    if temp_phi == 1:\n",
    "        return d + phi"
   ]
  },
  {
   "cell_type": "code",
   "execution_count": null,
   "metadata": {},
   "outputs": [],
   "source": [
    "multiplicative_inverse(2897, )"
   ]
  },
  {
   "cell_type": "code",
   "execution_count": 266,
   "metadata": {},
   "outputs": [],
   "source": [
    "def rsa(p, q):\n",
    "    n = p * q\n",
    "    tf = (p - 1) * (q - 1)\n",
    "    print(tf, n)\n",
    "    e = 2897 \n",
    "    d = 28853\n",
    "    return d, e, n"
   ]
  },
  {
   "cell_type": "code",
   "execution_count": 267,
   "metadata": {},
   "outputs": [
    {
     "name": "stdout",
     "output_type": "stream",
     "text": [
      "79380 79969\n",
      "28853 2897 79969\n"
     ]
    },
    {
     "data": {
      "text/plain": [
       "1"
      ]
     },
     "execution_count": 267,
     "metadata": {},
     "output_type": "execute_result"
    }
   ],
   "source": [
    "d, e, n = rsa(379, 211)\n",
    "print(d, e, n)\n",
    "gcd(17, 4784)"
   ]
  },
  {
   "cell_type": "code",
   "execution_count": 257,
   "metadata": {},
   "outputs": [],
   "source": [
    "def find_unique_code(char):\n",
    "    bin_ = bin(ord(char))[2:]\n",
    "    if len(bin_) < 7:\n",
    "        bin_ = (7 - len(bin_)) * '0' + bin_\n",
    "    bin_ = '1' + bin_            # appending 1 inorder to make a number unique\n",
    "#     print(bin_, bin(ord(i))[2:])\n",
    "    return bin_"
   ]
  },
  {
   "cell_type": "code",
   "execution_count": 258,
   "metadata": {},
   "outputs": [],
   "source": [
    "def find_char(unique_code):        # it returns char\n",
    "    return chr(int(unique_code[1:], 2))"
   ]
  },
  {
   "cell_type": "code",
   "execution_count": 259,
   "metadata": {},
   "outputs": [],
   "source": [
    "# block of 2 char\n",
    "\n",
    "def string_to_block(string):\n",
    "    strlen = len(string)\n",
    "    print(strlen % 2)\n",
    "    if strlen % 2:   # if string is not multiple of 2\n",
    "        string = string + ('$' * (2 - (strlen % 2)))     # appending dummy string\n",
    "    \n",
    "    blocks = []\n",
    "    for i in range(0, len(string)-1, 2):\n",
    "        chunk = string[i:i+2]\n",
    "        current_block = []\n",
    "        for c in chunk:\n",
    "#             print(c, find_unique_code(c))\n",
    "            current_block.append(find_unique_code(c))\n",
    "#         print(current_block)\n",
    "        blocks.append(int(\"\".join(current_block), 2))\n",
    "    return blocks"
   ]
  },
  {
   "cell_type": "code",
   "execution_count": 260,
   "metadata": {},
   "outputs": [],
   "source": [
    "def encryption(string, e, n):\n",
    "    blocks = string_to_block(string)\n",
    "    cipher = []\n",
    "    for b in blocks:\n",
    "        cipher.append((b ** e) % n)\n",
    "    return cipher"
   ]
  },
  {
   "cell_type": "code",
   "execution_count": 261,
   "metadata": {},
   "outputs": [
    {
     "name": "stdout",
     "output_type": "stream",
     "text": [
      "1\n",
      "Hello world$\n",
      "[22506, 74004, 12864, 42469, 20038, 26423]\n"
     ]
    }
   ],
   "source": [
    "cipher = encryption(\"Hello world\", e, n)\n",
    "print(blocks)\n",
    "print(cipher)"
   ]
  },
  {
   "cell_type": "code",
   "execution_count": 262,
   "metadata": {},
   "outputs": [],
   "source": [
    "def block_to_string(blocks):   # it takes decrypted blocks and convert it into original string\n",
    "    string = []\n",
    "    for i in blocks:\n",
    "        b = bin(i)[2:]\n",
    "        current_str = []\n",
    "        for ch in range(0, 15, 8):\n",
    "#             print(b[ch:ch+6], b[ch+2:ch+6], int(b[ch+2:ch+6], 2))\n",
    "            current_str.append(find_char(b[ch:ch+8]))\n",
    "        string.append(''.join(current_str))\n",
    "    return \"\".join(string)"
   ]
  },
  {
   "cell_type": "code",
   "execution_count": 263,
   "metadata": {},
   "outputs": [],
   "source": [
    "def decryption(cipher, d, n):\n",
    "    blocks = []\n",
    "    for c in cipher:\n",
    "#         print(c, n)\n",
    "        blocks.append((c ** d) % n)     # decrypting cipher using private key\n",
    "    return block_to_string(blocks)\n",
    "    "
   ]
  },
  {
   "cell_type": "code",
   "execution_count": 264,
   "metadata": {},
   "outputs": [
    {
     "name": "stdout",
     "output_type": "stream",
     "text": [
      "Hello world$\n"
     ]
    }
   ],
   "source": [
    "blocks = decryption(cipher, d, n)\n",
    "print(blocks)"
   ]
  },
  {
   "cell_type": "code",
   "execution_count": null,
   "metadata": {},
   "outputs": [],
   "source": [
    "\n",
    "            "
   ]
  },
  {
   "cell_type": "code",
   "execution_count": 237,
   "metadata": {},
   "outputs": [
    {
     "name": "stdout",
     "output_type": "stream",
     "text": [
      "110010 0010 2\n",
      "111001 1001 9\n",
      "111011 1011 11\n",
      "111011 1011 11\n",
      "111011 1011 11\n",
      "101000 1000 8\n",
      "111101 1101 13\n",
      "111011 1011 11\n",
      "111100 1100 12\n",
      "111011 1011 11\n",
      "111001 1001 9\n",
      "101001 1001 9\n"
     ]
    },
    {
     "data": {
      "text/plain": [
       "'Hello world$'"
      ]
     },
     "execution_count": 237,
     "metadata": {},
     "output_type": "execute_result"
    }
   ],
   "source": [
    "block_to_string(blocks)"
   ]
  },
  {
   "cell_type": "code",
   "execution_count": 76,
   "metadata": {},
   "outputs": [],
   "source": [
    "plain = 96"
   ]
  },
  {
   "cell_type": "code",
   "execution_count": 77,
   "metadata": {},
   "outputs": [
    {
     "data": {
      "text/plain": [
       "4734"
      ]
     },
     "execution_count": 77,
     "metadata": {},
     "output_type": "execute_result"
    }
   ],
   "source": [
    "cipher = (plain ** e) % n\n",
    "cipher"
   ]
  },
  {
   "cell_type": "code",
   "execution_count": 78,
   "metadata": {},
   "outputs": [
    {
     "data": {
      "text/plain": [
       "96"
      ]
     },
     "execution_count": 78,
     "metadata": {},
     "output_type": "execute_result"
    }
   ],
   "source": [
    "plain_new = (cipher ** d) % n\n",
    "plain_new"
   ]
  },
  {
   "cell_type": "code",
   "execution_count": 79,
   "metadata": {},
   "outputs": [
    {
     "data": {
      "text/plain": [
       "294"
      ]
     },
     "execution_count": 79,
     "metadata": {},
     "output_type": "execute_result"
    }
   ],
   "source": [
    "(plain ** (21)) % n"
   ]
  },
  {
   "cell_type": "code",
   "execution_count": 80,
   "metadata": {},
   "outputs": [],
   "source": [
    "m = 3232"
   ]
  },
  {
   "cell_type": "code",
   "execution_count": 81,
   "metadata": {},
   "outputs": [
    {
     "data": {
      "text/plain": [
       "3232"
      ]
     },
     "execution_count": 81,
     "metadata": {},
     "output_type": "execute_result"
    }
   ],
   "source": [
    "c = (m ** 17) % 3233\n",
    "c"
   ]
  },
  {
   "cell_type": "code",
   "execution_count": 82,
   "metadata": {},
   "outputs": [
    {
     "data": {
      "text/plain": [
       "3232"
      ]
     },
     "execution_count": 82,
     "metadata": {},
     "output_type": "execute_result"
    }
   ],
   "source": [
    "p = (c ** 413) % 3233\n",
    "p"
   ]
  },
  {
   "cell_type": "code",
   "execution_count": 212,
   "metadata": {},
   "outputs": [],
   "source": [
    "# Python3 program to print \n",
    "# all primes less than N \n",
    "\n",
    "# Function to check whether \n",
    "# a number is prime or not . \n",
    "def isPrime(n): \n",
    "\t\n",
    "\t# Corner case \n",
    "\tif n <= 1 : \n",
    "\t\treturn False\n",
    "\n",
    "\t# check from 2 to n-1 \n",
    "\tfor i in range(2, n): \n",
    "\t\tif n % i == 0: \n",
    "\t\t\treturn False\n",
    "\n",
    "\treturn True\n",
    "\n",
    "# Function to print primes \n",
    "def printPrime(n): \n",
    "    for i in range(2, n + 1): \n",
    "        if isPrime(i): \n",
    "            if (181 * i) % 69264 == 1:\n",
    "                print(i, end = \" \") \n",
    "\n",
    "# Driver code \n",
    "if __name__ == \"__main__\" : \n",
    "\tn = 692\n",
    "\t# function calling \n",
    "\tprintPrime(n) \n",
    "\t\n",
    "# This code is contributed \n",
    "# by Ankit Rai \n"
   ]
  },
  {
   "cell_type": "code",
   "execution_count": 154,
   "metadata": {},
   "outputs": [],
   "source": [
    "def find_d(e, phi_n):\n",
    "    for i in range(2, phi_n):\n",
    "        if (e * i) % phi_n == 1:\n",
    "            print(i)"
   ]
  },
  {
   "cell_type": "code",
   "execution_count": 171,
   "metadata": {},
   "outputs": [
    {
     "name": "stdout",
     "output_type": "stream",
     "text": [
      "28853\n"
     ]
    }
   ],
   "source": [
    "find_d(2897, 79380)"
   ]
  },
  {
   "cell_type": "code",
   "execution_count": 122,
   "metadata": {},
   "outputs": [
    {
     "data": {
      "text/plain": [
       "65536"
      ]
     },
     "execution_count": 122,
     "metadata": {},
     "output_type": "execute_result"
    }
   ],
   "source": [
    "2 ** 16"
   ]
  },
  {
   "cell_type": "code",
   "execution_count": 166,
   "metadata": {},
   "outputs": [
    {
     "data": {
      "text/plain": [
       "79969"
      ]
     },
     "execution_count": 166,
     "metadata": {},
     "output_type": "execute_result"
    }
   ],
   "source": [
    "n = 379 * 211\n",
    "n"
   ]
  },
  {
   "cell_type": "code",
   "execution_count": 167,
   "metadata": {},
   "outputs": [
    {
     "data": {
      "text/plain": [
       "79380"
      ]
     },
     "execution_count": 167,
     "metadata": {},
     "output_type": "execute_result"
    }
   ],
   "source": [
    "tf = 378 * 210\n",
    "tf"
   ]
  },
  {
   "cell_type": "code",
   "execution_count": 168,
   "metadata": {},
   "outputs": [
    {
     "data": {
      "text/plain": [
       "1"
      ]
     },
     "execution_count": 168,
     "metadata": {},
     "output_type": "execute_result"
    }
   ],
   "source": [
    "gcd(2897, 79380)   # e"
   ]
  },
  {
   "cell_type": "code",
   "execution_count": 172,
   "metadata": {},
   "outputs": [
    {
     "data": {
      "text/plain": [
       "83587141"
      ]
     },
     "execution_count": 172,
     "metadata": {},
     "output_type": "execute_result"
    }
   ],
   "source": [
    "ed = 2897 * 28853\n",
    "ed"
   ]
  },
  {
   "cell_type": "code",
   "execution_count": 174,
   "metadata": {},
   "outputs": [
    {
     "data": {
      "text/plain": [
       "1"
      ]
     },
     "execution_count": 174,
     "metadata": {},
     "output_type": "execute_result"
    }
   ],
   "source": [
    "ed % 79380"
   ]
  },
  {
   "cell_type": "code",
   "execution_count": null,
   "metadata": {},
   "outputs": [],
   "source": [
    "181 "
   ]
  }
 ],
 "metadata": {
  "kernelspec": {
   "display_name": "Python 3",
   "language": "python",
   "name": "python3"
  },
  "language_info": {
   "codemirror_mode": {
    "name": "ipython",
    "version": 3
   },
   "file_extension": ".py",
   "mimetype": "text/x-python",
   "name": "python",
   "nbconvert_exporter": "python",
   "pygments_lexer": "ipython3",
   "version": "3.7.3"
  }
 },
 "nbformat": 4,
 "nbformat_minor": 2
}
